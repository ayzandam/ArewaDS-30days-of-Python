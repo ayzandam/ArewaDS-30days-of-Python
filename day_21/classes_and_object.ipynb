{
 "cells": [
  {
   "attachments": {},
   "cell_type": "markdown",
   "metadata": {},
   "source": [
    "Exercise for Day 21"
   ]
  },
  {
   "cell_type": "code",
   "execution_count": 11,
   "metadata": {},
   "outputs": [],
   "source": [
    "import statistics\n",
    "\n",
    "class Statistics:\n",
    "    def __init__(self, ages):\n",
    "        self.ages = ages\n",
    "\n",
    "    def age_count(self):\n",
    "        return len(self.ages)\n",
    "    \n",
    "    def age_sum(self):\n",
    "        return sum(self.ages)\n",
    "    \n",
    "    def age_min(self):\n",
    "        return min(self.ages)\n",
    "    \n",
    "    def age_max(self):\n",
    "        return max(self.ages)\n",
    "    \n",
    "    def age_range(self):\n",
    "        return (max(self.ages) - min(self.ages))\n",
    "    \n",
    "    def age_mean(self):\n",
    "        return (sum(self.ages)/len(self.ages))\n",
    "    \n",
    "    def age_median(self):\n",
    "        sorted_age = sorted(self.ages)\n",
    "        md = int(len(self.ages)/2)\n",
    "        return self.ages[md] if md%2 != 0 else (self.ages[md] + self.ages[md-1])/2\n",
    "    \n",
    "    def age_mode(self):\n",
    "        return statistics.mode(self.ages)\n",
    "    \n",
    "    def age_variance(self):\n",
    "        return statistics.variance(self.ages)\n",
    "    \n",
    "    def age_std(self):\n",
    "        return statistics.stdev(self.ages)\n",
    "    \n",
    "    "
   ]
  },
  {
   "cell_type": "code",
   "execution_count": 12,
   "metadata": {},
   "outputs": [
    {
     "name": "stdout",
     "output_type": "stream",
     "text": [
      "Count:  25\n",
      "Sum:  744\n",
      "Min:  24\n",
      "Max:  38\n",
      "Range:  14\n",
      "Mean:  29.76\n",
      "Median:  28.0\n",
      "Mode:  26\n",
      "Variance:  18.273333333333333\n",
      "Standard Deviation:  4.2747319604079665\n"
     ]
    }
   ],
   "source": [
    "ages = [31, 26, 34, 37, 27, 26, 32, 32, 26, 27, 27, 24, 32, 33, 27, 25, 26, 38, 37, 31, 34, 24, 33, 29, 26]\n",
    "\n",
    "age_stat = Statistics(ages)\n",
    "print(\"Count: \", age_stat.age_count())\n",
    "print(\"Sum: \", age_stat.age_sum())\n",
    "print(\"Min: \", age_stat.age_min())\n",
    "print(\"Max: \", age_stat.age_max())\n",
    "print(\"Range: \", age_stat.age_range())\n",
    "print(\"Mean: \", age_stat.age_mean())\n",
    "print(\"Median: \", age_stat.age_median())\n",
    "print(\"Mode: \", age_stat.age_mode())\n",
    "print(\"Variance: \", age_stat.age_variance())\n",
    "print(\"Standard Deviation: \", age_stat.age_std())"
   ]
  },
  {
   "cell_type": "code",
   "execution_count": 14,
   "metadata": {},
   "outputs": [],
   "source": [
    "class PersonAccount:\n",
    "    def __init__(self, firstname, lastname, income, expenses):\n",
    "        self.firstname = firstname\n",
    "        self.lastname = lastname\n",
    "        self.income = income\n",
    "        self.expenses = expenses\n",
    "\n",
    "    def total_income(self):\n",
    "        return self.income.total()\n",
    "\n",
    "    def total_expense(self):\n",
    "        return self.expenses.total()\n",
    "\n",
    "    def account_info(self):\n",
    "        return self.account_balance\n",
    "\n",
    "    def add_income(self):\n",
    "        return self.income.add(self.income)\n",
    "\n",
    "    def add_expense(self):\n",
    "        return self.expenses.add(self.expenses)\n",
    "\n",
    "    def account_balance(self):\n",
    "        return (self.income - self.expenses)\n"
   ]
  },
  {
   "cell_type": "code",
   "execution_count": 16,
   "metadata": {},
   "outputs": [
    {
     "name": "stdout",
     "output_type": "stream",
     "text": [
      "<__main__.PersonAccount object at 0x0000000BA20C54C0>\n"
     ]
    }
   ],
   "source": [
    "account1 = PersonAccount(\"Abubakar\", \"Zandam\", 4000, 1250)\n",
    "print(account1)"
   ]
  }
 ],
 "metadata": {
  "kernelspec": {
   "display_name": "Python 3",
   "language": "python",
   "name": "python3"
  },
  "language_info": {
   "codemirror_mode": {
    "name": "ipython",
    "version": 3
   },
   "file_extension": ".py",
   "mimetype": "text/x-python",
   "name": "python",
   "nbconvert_exporter": "python",
   "pygments_lexer": "ipython3",
   "version": "3.9.1"
  },
  "orig_nbformat": 4
 },
 "nbformat": 4,
 "nbformat_minor": 2
}
