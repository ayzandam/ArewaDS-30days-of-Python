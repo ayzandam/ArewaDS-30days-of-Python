{
 "cells": [
  {
   "attachments": {},
   "cell_type": "markdown",
   "metadata": {},
   "source": [
    "Exercise for Day 22"
   ]
  },
  {
   "cell_type": "code",
   "execution_count": null,
   "metadata": {},
   "outputs": [],
   "source": [
    "import requests\n",
    "from bs4 import BeautifulSoup\n",
    "url = \"http://www.bu.edu/president/boston-uniersity-facts-stats/\"\n",
    "response = requests.get(url)\n",
    "content = response.json()"
   ]
  },
  {
   "cell_type": "code",
   "execution_count": null,
   "metadata": {},
   "outputs": [],
   "source": [
    "import requests\n",
    "from bs4 import BeautifulSoup\n",
    "url = \"http://archive.ics.uci.edu/ml/datasets.php\"\n",
    "response = requests.get(url)\n",
    "content = response.json()\n",
    "soup = BeautifulSoup(content,\"html.parser\")\n",
    "\n",
    "tables = soup.findall('table', {'cellpadding':'3'})\n",
    "table = tables[0]\n",
    "for td in table.find('tr').find_all('td'):\n",
    "    print(td.text)\n"
   ]
  },
  {
   "cell_type": "code",
   "execution_count": null,
   "metadata": {},
   "outputs": [],
   "source": [
    "import requests\n",
    "from bs4 import BeautifulSoup\n",
    "url = \"http://en.wikipedia.org/wiki/Lst_of_presidents_of_the_United_States\"\n",
    "response = requests.get(url)\n",
    "content = response.json()\n",
    "soup = BeautifulSoup(content,\"html.parser\")\n",
    "\n",
    "tables = soup.findall('table', {'cellpadding':'3'})\n",
    "table = tables[0]\n",
    "for td in table.find('tr').find_all('td'):\n",
    "    print(td.text)"
   ]
  }
 ],
 "metadata": {
  "kernelspec": {
   "display_name": "Python 3",
   "language": "python",
   "name": "python3"
  },
  "language_info": {
   "name": "python",
   "version": "3.9.1"
  },
  "orig_nbformat": 4
 },
 "nbformat": 4,
 "nbformat_minor": 2
}
