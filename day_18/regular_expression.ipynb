{
 "cells": [
  {
   "attachments": {},
   "cell_type": "markdown",
   "metadata": {},
   "source": [
    "Excercise for Day 18"
   ]
  },
  {
   "cell_type": "code",
   "execution_count": 3,
   "metadata": {},
   "outputs": [
    {
     "name": "stdout",
     "output_type": "stream",
     "text": [
      "[(14, 'I'), (6, 'love'), (2, 'teaching.'), (2, 'If'), (5, 'you'), (2, 'do'), (2, 'not'), (6, 'love'), (2, 'teaching'), (2, 'what'), (2, 'else'), (3, 'can'), (5, 'you'), (6, 'love.'), (14, 'I'), (6, 'love'), (1, 'Python'), (2, 'if'), (5, 'you'), (2, 'do'), (2, 'not'), (6, 'love'), (1, 'something'), (1, 'which'), (3, 'can'), (1, 'give'), (5, 'you'), (1, 'all'), (1, 'the'), (1, 'capabilities'), (1, 'to'), (1, 'develop'), (4, 'an'), (1, 'application'), (2, 'what'), (2, 'else'), (3, 'can'), (5, 'you'), (6, 'love.')]\n"
     ]
    }
   ],
   "source": [
    "import re\n",
    "# What is the most frequent word in the following paragraph?\n",
    "paragraph = 'I love teaching. If you do not love teaching what else can you love. I love Python if you do not love something which can give you all the capabilities to develop an application what else can you love.'\n",
    "words = paragraph.split()\n",
    "# print(words)\n",
    "freq = [((len(re.findall(word, paragraph, re.I))), word) for word in words]\n",
    "print(freq)"
   ]
  },
  {
   "cell_type": "code",
   "execution_count": 26,
   "metadata": {},
   "outputs": [
    {
     "name": "stdout",
     "output_type": "stream",
     "text": [
      "Distance: 20\n"
     ]
    }
   ],
   "source": [
    "# The position of some particles on the horizontal x-axis are -12, -4, -3 and -1 in the negative direction, 0 at origin, 4 and 8 in the positive direction. \n",
    "# Extract these numbers from this whole text and find the distance between the two furthest particles.\n",
    "# sorted_points =  [-12, -4, -3, -1, -1, 0, 2, 4, 8]\n",
    "# distance = 8 - (-12)\n",
    "import re\n",
    "points = ['-12', '-4', '-3', '-1', '0', '4', '8']\n",
    "\n",
    "dots = [int(num) for num in points]\n",
    "distance = dots[-1] - dots[0]\n",
    "print(f'Distance: {distance}')"
   ]
  },
  {
   "cell_type": "code",
   "execution_count": 33,
   "metadata": {},
   "outputs": [
    {
     "name": "stdout",
     "output_type": "stream",
     "text": [
      "Validity of the name provided: True\n"
     ]
    }
   ],
   "source": [
    "# \n",
    "# is_valid_variable('first_name') # True\n",
    "# is_valid_variable('first-name') # False\n",
    "# is_valid_variable('1first_name') # False\n",
    "# is_valid_variable('firstname') # True\n",
    "import re\n",
    "\n",
    "def is_valid_variable(variable):\n",
    "    pattern = re.compile(r'^[a-zA-Z_][a-zA-Z0-9_]*$')\n",
    "    return bool(pattern.match(variable))\n",
    "\n",
    "var = input(\"Enter variable name: \") # input: zandam\n",
    "print(f'Validity of the name provided: {is_valid_variable(var)}')"
   ]
  },
  {
   "cell_type": "code",
   "execution_count": 58,
   "metadata": {},
   "outputs": [
    {
     "name": "stdout",
     "output_type": "stream",
     "text": [
      "I am a teacher and I love teaching There is nothing as more rewarding as educating and empowering people I found teaching more interesting than any other jobs Does this motivate you to be a teacher\n",
      "[(3, 'I'), (1, 'am'), (16, 'a'), (2, 'teacher'), (2, 'and'), (3, 'I'), (1, 'love'), (2, 'teaching'), (1, 'There'), (2, 'is'), (1, 'nothing'), (2, 'as'), (2, 'more'), (1, 'rewarding'), (2, 'as'), (1, 'educating'), (2, 'and'), (1, 'empowering'), (1, 'people'), (3, 'I'), (1, 'found'), (2, 'teaching'), (2, 'more'), (1, 'interesting'), (1, 'than'), (1, 'any'), (1, 'other'), (1, 'jobs'), (1, 'Does'), (1, 'this'), (1, 'motivate'), (1, 'you'), (1, 'to'), (1, 'be'), (16, 'a'), (2, 'teacher')]\n"
     ]
    }
   ],
   "source": [
    "# Clean the following text. After cleaning, count three most frequent words in the string.\n",
    "sentence = '''%I $am@% a %tea@cher%, &and& I lo%#ve %tea@ching%;. There $is nothing; &as& mo@re rewarding as educa@ting &and& @emp%o@wering peo@ple. ;I found tea@ching m%o@re interesting tha@n any other %jo@bs. %Do@es thi%s mo@tivate yo@u to be a tea@cher!?'''\n",
    "\n",
    "import re\n",
    "clean_sentence = re.sub('[@%#$&;,.!?]', '', sentence)\n",
    "tokens = clean_sentence.split()\n",
    "# freq = [((len(re.findall(word, paragraph, re.I))), word) for word in words]\n",
    "freq = [(len(re.findall(word, clean_sentence)), word) for word in tokens]\n",
    "print(clean_sentence)\n",
    "print(freq)\n"
   ]
  },
  {
   "cell_type": "code",
   "execution_count": null,
   "metadata": {},
   "outputs": [],
   "source": []
  }
 ],
 "metadata": {
  "kernelspec": {
   "display_name": "Python 3",
   "language": "python",
   "name": "python3"
  },
  "language_info": {
   "codemirror_mode": {
    "name": "ipython",
    "version": 3
   },
   "file_extension": ".py",
   "mimetype": "text/x-python",
   "name": "python",
   "nbconvert_exporter": "python",
   "pygments_lexer": "ipython3",
   "version": "3.9.1"
  },
  "orig_nbformat": 4
 },
 "nbformat": 4,
 "nbformat_minor": 2
}
