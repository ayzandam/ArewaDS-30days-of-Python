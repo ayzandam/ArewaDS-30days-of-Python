{
 "cells": [
  {
   "attachments": {},
   "cell_type": "markdown",
   "metadata": {},
   "source": [
    "Exercise 11"
   ]
  },
  {
   "cell_type": "code",
   "execution_count": 3,
   "metadata": {},
   "outputs": [
    {
     "name": "stdout",
     "output_type": "stream",
     "text": [
      "Messages to be sent:\n",
      "['How are you', 'Good day', 'Good morning', 'I am great', 'Thank you']\n",
      "Messages archived\n",
      "['How are you', 'Good day', 'Good morning', 'I am great', 'Thank you']\n"
     ]
    }
   ],
   "source": [
    "msg = [\"How are you\", \"Good day\", \"Good morning\", \"I am great\", \"Thank you\"]\n",
    "send_msg = []\n",
    "\n",
    "def send_message(msg):\n",
    "    for m in msg:\n",
    "        send_msg.append(m)\n",
    "\n",
    "send_message(msg)\n",
    "print(\"Messages to be sent:\")\n",
    "print(msg)\n",
    "print(\"Messages archived\")\n",
    "print(send_msg)"
   ]
  }
 ],
 "metadata": {
  "kernelspec": {
   "display_name": "Python 3",
   "language": "python",
   "name": "python3"
  },
  "language_info": {
   "codemirror_mode": {
    "name": "ipython",
    "version": 3
   },
   "file_extension": ".py",
   "mimetype": "text/x-python",
   "name": "python",
   "nbconvert_exporter": "python",
   "pygments_lexer": "ipython3",
   "version": "3.9.1"
  },
  "orig_nbformat": 4
 },
 "nbformat": 4,
 "nbformat_minor": 2
}
