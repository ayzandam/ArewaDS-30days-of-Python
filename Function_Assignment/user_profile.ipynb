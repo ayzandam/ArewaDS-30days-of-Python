{
 "cells": [
  {
   "attachments": {},
   "cell_type": "markdown",
   "metadata": {},
   "source": [
    "Exercise 13"
   ]
  },
  {
   "cell_type": "code",
   "execution_count": 4,
   "metadata": {},
   "outputs": [
    {
     "name": "stdout",
     "output_type": "stream",
     "text": [
      "{'first_name': 'Abubakar', 'last_name': 'Zandam', 'age': 28, 'occupation': 'Lecturer'}\n"
     ]
    }
   ],
   "source": [
    "def build_profile(first_name, last_name, **info):\n",
    "    profile = {'first_name': first_name, 'last_name': last_name}\n",
    "    profile.update(info)\n",
    "    return profile\n",
    "\n",
    "my_profile = build_profile(\n",
    "    first_name = \"Abubakar\",\n",
    "    last_name=\"Zandam\",\n",
    "    age = 28,\n",
    "    occupation=\"Lecturer\"\n",
    ")\n",
    "\n",
    "print(my_profile)"
   ]
  }
 ],
 "metadata": {
  "kernelspec": {
   "display_name": "Python 3",
   "language": "python",
   "name": "python3"
  },
  "language_info": {
   "codemirror_mode": {
    "name": "ipython",
    "version": 3
   },
   "file_extension": ".py",
   "mimetype": "text/x-python",
   "name": "python",
   "nbconvert_exporter": "python",
   "pygments_lexer": "ipython3",
   "version": "3.9.1"
  },
  "orig_nbformat": 4
 },
 "nbformat": 4,
 "nbformat_minor": 2
}
