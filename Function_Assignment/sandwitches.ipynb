{
 "cells": [
  {
   "attachments": {},
   "cell_type": "markdown",
   "metadata": {},
   "source": [
    "Exercise 12"
   ]
  },
  {
   "cell_type": "code",
   "execution_count": 3,
   "metadata": {},
   "outputs": [
    {
     "name": "stdout",
     "output_type": "stream",
     "text": [
      "Sandwich Order:\n",
      " - Turkey\n",
      " - Chicken\n",
      " - Lettuce\n",
      " - Avocado\n"
     ]
    }
   ],
   "source": [
    "def order_sandwich(*items):\n",
    "    print(\"Sandwich Order:\")\n",
    "    if items:\n",
    "        for item in items:\n",
    "            print(f\" - {item}\")\n",
    "    else:\n",
    "        print(\"No items selected for the sandwich\")\n",
    "\n",
    "order_sandwich(\"Turkey\", \"Chicken\", \"Lettuce\", \"Avocado\")"
   ]
  }
 ],
 "metadata": {
  "kernelspec": {
   "display_name": "Python 3",
   "language": "python",
   "name": "python3"
  },
  "language_info": {
   "codemirror_mode": {
    "name": "ipython",
    "version": 3
   },
   "file_extension": ".py",
   "mimetype": "text/x-python",
   "name": "python",
   "nbconvert_exporter": "python",
   "pygments_lexer": "ipython3",
   "version": "3.9.1"
  },
  "orig_nbformat": 4
 },
 "nbformat": 4,
 "nbformat_minor": 2
}
