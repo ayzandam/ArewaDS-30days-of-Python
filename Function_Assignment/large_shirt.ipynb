{
 "cells": [
  {
   "attachments": {},
   "cell_type": "markdown",
   "metadata": {},
   "source": [
    "Excercise 4"
   ]
  },
  {
   "cell_type": "code",
   "execution_count": 6,
   "metadata": {},
   "outputs": [
    {
     "name": "stdout",
     "output_type": "stream",
     "text": [
      "I love Python Data Science\n",
      "I love Python Data Science\n"
     ]
    }
   ],
   "source": [
    "def make_shirt(size, text):\n",
    "    shirt = text[0:size]\n",
    "    return \"I love Python \" + shirt\n",
    "\n",
    "# calling the function using positional arguments\n",
    "size = 12\n",
    "message = \"Data Science Enthusiatics\"\n",
    "print(make_shirt(size, message))\n",
    "\n",
    "# calling the function using keyword arguments\n",
    "print(make_shirt(12, \"Data Science Enthusiatics\"))"
   ]
  }
 ],
 "metadata": {
  "kernelspec": {
   "display_name": "Python 3",
   "language": "python",
   "name": "python3"
  },
  "language_info": {
   "codemirror_mode": {
    "name": "ipython",
    "version": 3
   },
   "file_extension": ".py",
   "mimetype": "text/x-python",
   "name": "python",
   "nbconvert_exporter": "python",
   "pygments_lexer": "ipython3",
   "version": "3.9.1"
  },
  "orig_nbformat": 4
 },
 "nbformat": 4,
 "nbformat_minor": 2
}
