{
 "cells": [
  {
   "attachments": {},
   "cell_type": "markdown",
   "metadata": {},
   "source": [
    "Exercise 14"
   ]
  },
  {
   "cell_type": "code",
   "execution_count": 1,
   "metadata": {},
   "outputs": [
    {
     "name": "stdout",
     "output_type": "stream",
     "text": [
      "{'manufacturer': 'Honda', 'model': 'Civic', 'color': 'Red', 'year': 2024}\n"
     ]
    }
   ],
   "source": [
    "def car_info(manufacturer, model, **info):\n",
    "    car_details = {'manufacturer': manufacturer, 'model': model}\n",
    "    car_details.update(info)\n",
    "    return car_details\n",
    "\n",
    "car_in = car_info(\n",
    "    manufacturer = \"Honda\",\n",
    "    model = \"Civic\",\n",
    "    color = \"Red\",\n",
    "    year = 2024\n",
    ")\n",
    "\n",
    "print(car_in)"
   ]
  }
 ],
 "metadata": {
  "kernelspec": {
   "display_name": "Python 3",
   "language": "python",
   "name": "python3"
  },
  "language_info": {
   "codemirror_mode": {
    "name": "ipython",
    "version": 3
   },
   "file_extension": ".py",
   "mimetype": "text/x-python",
   "name": "python",
   "nbconvert_exporter": "python",
   "pygments_lexer": "ipython3",
   "version": "3.9.1"
  },
  "orig_nbformat": 4
 },
 "nbformat": 4,
 "nbformat_minor": 2
}
