{
 "cells": [
  {
   "attachments": {},
   "cell_type": "markdown",
   "metadata": {},
   "source": [
    "Excercise 8"
   ]
  },
  {
   "cell_type": "code",
   "execution_count": 7,
   "metadata": {},
   "outputs": [
    {
     "name": "stdout",
     "output_type": "stream",
     "text": [
      "Creating a Custom Album\n",
      "{'Name': 'ATR', 'Title': 'Testing'}\n"
     ]
    }
   ],
   "source": [
    "def make_album(name, title):\n",
    "    album = dict({\"Name\":name, \"Title\":title})\n",
    "    return album\n",
    "\n",
    "print(\"Creating a Custom Album\")\n",
    "flag = True\n",
    "while(flag):\n",
    "    name = input(\"Enter Artist Name: \")\n",
    "    title = input(\"Enter Album Title: \")\n",
    "    print(make_album(name, title))\n",
    "    rep = input(\"Do you want continue(Y/N)?\")\n",
    "    flag = False if (rep == \"N\" or rep == \"n\") else False\n"
   ]
  }
 ],
 "metadata": {
  "kernelspec": {
   "display_name": "Python 3",
   "language": "python",
   "name": "python3"
  },
  "language_info": {
   "codemirror_mode": {
    "name": "ipython",
    "version": 3
   },
   "file_extension": ".py",
   "mimetype": "text/x-python",
   "name": "python",
   "nbconvert_exporter": "python",
   "pygments_lexer": "ipython3",
   "version": "3.9.1"
  },
  "orig_nbformat": 4
 },
 "nbformat": 4,
 "nbformat_minor": 2
}
