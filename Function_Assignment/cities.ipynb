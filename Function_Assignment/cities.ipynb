{
 "cells": [
  {
   "attachments": {},
   "cell_type": "markdown",
   "metadata": {},
   "source": [
    "Exercise 5"
   ]
  },
  {
   "cell_type": "code",
   "execution_count": 1,
   "metadata": {},
   "outputs": [
    {
     "name": "stdout",
     "output_type": "stream",
     "text": [
      "Scotland is in United Kingdom\n",
      "Kano is in Nigeria\n",
      "Dutse is in Nigeria\n"
     ]
    }
   ],
   "source": [
    "def describe_city(city, country = \"Nigeria\"):\n",
    "    return f\"{city} is in {country}\"\n",
    "\n",
    "print(describe_city(\"Scotland\", \"United Kingdom\"))\n",
    "print(describe_city(\"Kano\", \"Nigeria\"))\n",
    "print(describe_city(\"Dutse\"))"
   ]
  }
 ],
 "metadata": {
  "kernelspec": {
   "display_name": "Python 3",
   "language": "python",
   "name": "python3"
  },
  "language_info": {
   "codemirror_mode": {
    "name": "ipython",
    "version": 3
   },
   "file_extension": ".py",
   "mimetype": "text/x-python",
   "name": "python",
   "nbconvert_exporter": "python",
   "pygments_lexer": "ipython3",
   "version": "3.9.1"
  },
  "orig_nbformat": 4
 },
 "nbformat": 4,
 "nbformat_minor": 2
}
