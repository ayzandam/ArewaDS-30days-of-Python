{
 "cells": [
  {
   "attachments": {},
   "cell_type": "markdown",
   "metadata": {},
   "source": [
    "Excercise 10"
   ]
  },
  {
   "cell_type": "code",
   "execution_count": 9,
   "metadata": {},
   "outputs": [
    {
     "name": "stdout",
     "output_type": "stream",
     "text": [
      "How are you\n",
      "Good morning\n",
      "Thank you\n",
      "Messages to be sent:\n",
      "['Good day', 'I am great']\n",
      "Messages sent\n",
      "['How are you', 'Good morning', 'Thank you']\n"
     ]
    }
   ],
   "source": [
    "msg = [\"How are you\", \"Good day\", \"Good morning\", \"I am great\", \"Thank you\"]\n",
    "send_msg = []\n",
    "\n",
    "def send_message(msg):\n",
    "    for m in msg:\n",
    "        print(m)\n",
    "        send_msg.append(m)\n",
    "        msg.remove(m)\n",
    "\n",
    "send_message(msg)\n",
    "print(\"Messages to be sent:\")\n",
    "print(msg)\n",
    "print(\"Messages sent\")\n",
    "print(send_msg)"
   ]
  }
 ],
 "metadata": {
  "kernelspec": {
   "display_name": "Python 3",
   "language": "python",
   "name": "python3"
  },
  "language_info": {
   "codemirror_mode": {
    "name": "ipython",
    "version": 3
   },
   "file_extension": ".py",
   "mimetype": "text/x-python",
   "name": "python",
   "nbconvert_exporter": "python",
   "pygments_lexer": "ipython3",
   "version": "3.9.1"
  },
  "orig_nbformat": 4
 },
 "nbformat": 4,
 "nbformat_minor": 2
}
